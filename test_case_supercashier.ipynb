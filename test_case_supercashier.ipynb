{
  "nbformat": 4,
  "nbformat_minor": 0,
  "metadata": {
    "colab": {
      "provenance": []
    },
    "kernelspec": {
      "name": "python3",
      "display_name": "Python 3"
    },
    "language_info": {
      "name": "python"
    }
  },
  "cells": [
    {
      "cell_type": "markdown",
      "source": [
        "---\n",
        "\n",
        "# **Python Project: Super Cashier**\n",
        "\n",
        "**Super Cashier** is a Python-based self-service cashier system designed for berbelanja di sebuah supermarket secara online. The program enables customers to add, update, and manage their shopping cart before finalizing payment. It also keeps a transaction record that can later be used by supermarket management for bookkeeping purposes and popular item analytics."
      ],
      "metadata": {
        "id": "2u1etVl4xURw"
      }
    },
    {
      "cell_type": "markdown",
      "source": [
        "---"
      ],
      "metadata": {
        "id": "l4VKoyTKwd1p"
      }
    },
    {
      "cell_type": "markdown",
      "source": [
        "# Explore Super Cashier: Try it Yourself!\n",
        "\n",
        "---"
      ],
      "metadata": {
        "id": "Wi5ntmimwh3a"
      }
    },
    {
      "cell_type": "code",
      "source": [
        "# Run this first to kickstart the program\n",
        "\n",
        "from cashier import Transaction\n",
        "from tabulate import tabulate\n",
        "from re import sub\n",
        "\n",
        "trx = Transaction()"
      ],
      "metadata": {
        "id": "Q_mWohWQOocT"
      },
      "execution_count": null,
      "outputs": []
    },
    {
      "cell_type": "code",
      "source": [
        "# To repeatedly input items to the shopping cart\n",
        "\n",
        "trx.add_item()"
      ],
      "metadata": {
        "id": "7QjHwJLKeWYi"
      },
      "execution_count": null,
      "outputs": []
    },
    {
      "cell_type": "code",
      "source": [
        "# To update name, quantity, or price of an existing item\n",
        "\n",
        "trx.update_item()"
      ],
      "metadata": {
        "id": "J4EuOz0dMbaO"
      },
      "execution_count": null,
      "outputs": []
    },
    {
      "cell_type": "code",
      "source": [
        "# To delete a specific item from the cart\n",
        "\n",
        "trx.delete_item()"
      ],
      "metadata": {
        "id": "WuDWLfuNMbPu"
      },
      "execution_count": null,
      "outputs": []
    },
    {
      "cell_type": "code",
      "source": [
        "# To clear all items in the cart\n",
        "\n",
        "trx.reset_transaction()"
      ],
      "metadata": {
        "id": "ZCMorZwrHm1D"
      },
      "execution_count": null,
      "outputs": []
    },
    {
      "cell_type": "code",
      "source": [
        "# To display all current items in the cart\n",
        "\n",
        "trx.check_order()"
      ],
      "metadata": {
        "id": "zbBcnmav0E9P"
      },
      "execution_count": null,
      "outputs": []
    },
    {
      "cell_type": "code",
      "source": [
        "# To calculate the total cost, applies discount, and processes payment confirmation\n",
        "\n",
        "trx.total_price()"
      ],
      "metadata": {
        "id": "Jf9IHcyX0EzE"
      },
      "execution_count": null,
      "outputs": []
    },
    {
      "cell_type": "code",
      "source": [
        "# To access the transaction records\n",
        "\n",
        "print(Transaction.bookkeeping)"
      ],
      "metadata": {
        "id": "fB1GkSAyLnCQ"
      },
      "execution_count": null,
      "outputs": []
    },
    {
      "cell_type": "markdown",
      "source": [
        "---"
      ],
      "metadata": {
        "id": "LJ-n2EhCzFCK"
      }
    },
    {
      "cell_type": "markdown",
      "source": [
        "# **Test Cases: You can also try the scenarios below!**"
      ],
      "metadata": {
        "id": "6W_9pjTxy42R"
      }
    },
    {
      "cell_type": "code",
      "source": [
        "# Run this first to kickstart the program\n",
        "\n",
        "from tabulate import tabulate\n",
        "from re import sub\n",
        "\n",
        "trx = Transaction()"
      ],
      "metadata": {
        "id": "mxbyQq6-zy7H"
      },
      "execution_count": null,
      "outputs": []
    },
    {
      "cell_type": "markdown",
      "source": [
        "---\n",
        "\n",
        "### **Test 1:**\n",
        "\n",
        "The customer wants to use `add_item()` to add 3 new items as follows:\n",
        "\n",
        " - Item name: Fried Chicken, Qty: 2, Price: 20000\n",
        "\n",
        " - Item name: Toothpaste, Qty: 3, Price: 15000\n",
        "\n",
        " - Item name: Instant Noodles, Qty: 5, Price: 3000"
      ],
      "metadata": {
        "id": "gX0moN-gziRj"
      }
    },
    {
      "cell_type": "code",
      "source": [
        "trx.add_item()"
      ],
      "metadata": {
        "colab": {
          "base_uri": "https://localhost:8080/"
        },
        "id": "O2oFo6y0zESF",
        "outputId": "6df6bc0d-f2d8-4a7c-9526-5faca81dad8e"
      },
      "execution_count": null,
      "outputs": [
        {
          "output_type": "stream",
          "name": "stdout",
          "text": [
            "Ensure no typo when entering item name.\n",
            "  Item name: Fried Chicken\n",
            "\n",
            "Enter quantity using numbers only. Example: 6\n",
            "  Item quantity: 2\n",
            "\n",
            "Enter item price using numbers only, no thousand separators. Example: 20000\n",
            "  Unit price: 20000\n",
            " \n",
            "\n",
            "Item 'fried chicken' has been successfully added to your cart.\n",
            " \n",
            "+---------------+------------+--------------+---------------+\n",
            "| Item          |   Quantity |   Unit Price |   Total Price |\n",
            "+===============+============+==============+===============+\n",
            "| fried chicken |          2 |        20000 |         40000 |\n",
            "+---------------+------------+--------------+---------------+\n",
            "\n",
            "Please review the item details above.\n",
            "\n",
            "Use 'update_item()' if you need to make corrections.\n"
          ]
        }
      ]
    },
    {
      "cell_type": "code",
      "source": [
        "trx.add_item()"
      ],
      "metadata": {
        "colab": {
          "base_uri": "https://localhost:8080/"
        },
        "id": "uD7ZUrtlz_ym",
        "outputId": "4df4c6a9-1d20-4441-c532-e064ac84fcb3"
      },
      "execution_count": null,
      "outputs": [
        {
          "output_type": "stream",
          "name": "stdout",
          "text": [
            "Ensure no typo when entering item name.\n",
            "  Item name: TOOTHPASTE\n",
            "\n",
            "Enter quantity using numbers only. Example: 6\n",
            "  Item quantity: 3pcs\n",
            "\n",
            "Enter item price using numbers only, no thousand separators. Example: 20000\n",
            "  Unit price: 15000\n",
            " \n",
            "\n",
            "Item 'toothpaste' has been successfully added to your cart.\n",
            " \n",
            "+------------+------------+--------------+---------------+\n",
            "| Item       |   Quantity |   Unit Price |   Total Price |\n",
            "+============+============+==============+===============+\n",
            "| toothpaste |          3 |        15000 |         45000 |\n",
            "+------------+------------+--------------+---------------+\n",
            "\n",
            "Please review the item details above.\n",
            "\n",
            "Use 'update_item()' if you need to make corrections.\n"
          ]
        }
      ]
    },
    {
      "cell_type": "code",
      "source": [
        "trx.add_item()"
      ],
      "metadata": {
        "colab": {
          "base_uri": "https://localhost:8080/"
        },
        "id": "KeOHL9ibz_og",
        "outputId": "a128c4a3-8d69-4d0a-c776-90bbab0328ac"
      },
      "execution_count": null,
      "outputs": [
        {
          "output_type": "stream",
          "name": "stdout",
          "text": [
            "Ensure no typo when entering item name.\n",
            "  Item name: InsTANT NOODLe555\n",
            "\n",
            "Enter quantity using numbers only. Example: 6\n",
            "  Item quantity: 5\n",
            "\n",
            "Enter item price using numbers only, no thousand separators. Example: 20000\n",
            "  Unit price: Rp3000\n",
            " \n",
            "\n",
            "Item 'instant noodle' has been successfully added to your cart.\n",
            " \n",
            "+----------------+------------+--------------+---------------+\n",
            "| Item           |   Quantity |   Unit Price |   Total Price |\n",
            "+================+============+==============+===============+\n",
            "| instant noodle |          5 |         3000 |         15000 |\n",
            "+----------------+------------+--------------+---------------+\n",
            "\n",
            "Please review the item details above.\n",
            "\n",
            "Use 'update_item()' if you need to make corrections.\n"
          ]
        }
      ]
    },
    {
      "cell_type": "code",
      "source": [
        "trx.check_order()"
      ],
      "metadata": {
        "colab": {
          "base_uri": "https://localhost:8080/"
        },
        "id": "GCGImCuZ2k_6",
        "outputId": "3e4033b6-5722-4a81-821f-738de8982add"
      },
      "execution_count": null,
      "outputs": [
        {
          "output_type": "stream",
          "name": "stdout",
          "text": [
            "\n",
            "Current contents of your cart:\n",
            "\n",
            "+-------+----------------+------------+--------------+---------------+\n",
            "|   No. | Item           |   Quantity |   Unit Price |   Total Price |\n",
            "+=======+================+============+==============+===============+\n",
            "|     1 | fried chicken  |          2 |        20000 |         40000 |\n",
            "+-------+----------------+------------+--------------+---------------+\n",
            "|     2 | toothpaste     |          3 |        15000 |         45000 |\n",
            "+-------+----------------+------------+--------------+---------------+\n",
            "|     3 | instant noodle |          5 |         3000 |         15000 |\n",
            "+-------+----------------+------------+--------------+---------------+\n",
            "\n",
            "Please check your cart before proceeding to checkout. Use 'update_item()' if needed.\n",
            "\n",
            "If everything looks good, use 'total_price()' to complete your purchase.\n"
          ]
        }
      ]
    },
    {
      "cell_type": "markdown",
      "source": [
        "---\n",
        "\n",
        "### **Test 2:**\n",
        "\n",
        "The customer made a mistake and wants to use `delete_item()` to remove Toothpaste."
      ],
      "metadata": {
        "id": "0R1Iinst0BYe"
      }
    },
    {
      "cell_type": "code",
      "source": [
        "trx.delete_item()"
      ],
      "metadata": {
        "colab": {
          "base_uri": "https://localhost:8080/"
        },
        "id": "moBafNZp0Ium",
        "outputId": "91c63996-8893-4067-f20d-f8a32270de8d"
      },
      "execution_count": null,
      "outputs": [
        {
          "output_type": "stream",
          "name": "stdout",
          "text": [
            "Which item do you want to remove?\n",
            "Toothpaste\n",
            "\n",
            "Are you sure you want to remove 'toothpaste'?\n",
            "(yes / no)\n",
            "yes\n",
            "\n",
            "Item 'toothpaste' has been removed from your cart.\n",
            "\n",
            "Current contents of your cart:\n",
            "\n",
            "+-------+----------------+------------+--------------+---------------+\n",
            "|   No. | Item           |   Quantity |   Unit Price |   Total Price |\n",
            "+=======+================+============+==============+===============+\n",
            "|     1 | fried chicken  |          2 |        20000 |         40000 |\n",
            "+-------+----------------+------------+--------------+---------------+\n",
            "|     2 | instant noodle |          5 |         3000 |         15000 |\n",
            "+-------+----------------+------------+--------------+---------------+\n"
          ]
        }
      ]
    },
    {
      "cell_type": "markdown",
      "source": [
        "---\n",
        "\n",
        "### **Test 3:**\n",
        "\n",
        "The customer entered the shopping items incorrectly and wants to empty the cart at once using `reset_transaction()` instead of deleting items one by one."
      ],
      "metadata": {
        "id": "lJimYiiV0US5"
      }
    },
    {
      "cell_type": "code",
      "source": [
        "trx.reset_transaction()"
      ],
      "metadata": {
        "colab": {
          "base_uri": "https://localhost:8080/"
        },
        "id": "3lXyPMsD0jUB",
        "outputId": "082d001b-4d6a-408d-c3fd-a0da44ed741e"
      },
      "execution_count": null,
      "outputs": [
        {
          "output_type": "stream",
          "name": "stdout",
          "text": [
            "Are you sure you want to clear all items in your cart?\n",
            "\n",
            "If you choose 'yes', all items will be permanently deleted.\n",
            "(yes / no)\n",
            "yes\n",
            "\n",
            "Your cart has been successfully cleared.\n",
            "\n",
            "Use 'add_item()' to add new items.\n"
          ]
        }
      ]
    },
    {
      "cell_type": "code",
      "source": [
        "trx.check_order()"
      ],
      "metadata": {
        "colab": {
          "base_uri": "https://localhost:8080/"
        },
        "id": "C_3NEWCE0qig",
        "outputId": "6c6a87a2-e974-4704-fd9c-a60fa5f8671c"
      },
      "execution_count": null,
      "outputs": [
        {
          "output_type": "stream",
          "name": "stdout",
          "text": [
            "\n",
            "Your cart is empty. Use 'add_item()' to add products.\n"
          ]
        }
      ]
    },
    {
      "cell_type": "markdown",
      "source": [
        "---\n",
        "\n",
        "### **Test 4:**\n",
        "\n",
        "**4.1.** The customer re-enters the shopping items using `add_item()`:\n",
        " - Item name: Fried Chicken, Qty: 2, Price: 20000\n",
        " - Item name: Toothpaste, Qty: 3, Price: 15000\n",
        " - Item name: Instant Noodles, Qty: 5, Price: 3000\n",
        " - Item name: Toy Car, Qty: 1, Price: 200000"
      ],
      "metadata": {
        "id": "ViK4yADb0tJj"
      }
    },
    {
      "cell_type": "code",
      "source": [
        "trx.add_item()"
      ],
      "metadata": {
        "colab": {
          "base_uri": "https://localhost:8080/"
        },
        "id": "hk-1sGwG09N7",
        "outputId": "7ebf63f1-5a8e-4533-9994-2958283fc0b3"
      },
      "execution_count": null,
      "outputs": [
        {
          "output_type": "stream",
          "name": "stdout",
          "text": [
            "Ensure no typo when entering item name.\n",
            "  Item name: Fried Chicken\n",
            "\n",
            "Enter quantity using numbers only. Example: 6\n",
            "  Item quantity: 2\n",
            "\n",
            "Enter item price using numbers only, no thousand separators. Example: 20000\n",
            "  Unit price: 20000\n",
            " \n",
            "\n",
            "Item 'fried chicken' has been successfully added to your cart.\n",
            " \n",
            "+---------------+------------+--------------+---------------+\n",
            "| Item          |   Quantity |   Unit Price |   Total Price |\n",
            "+===============+============+==============+===============+\n",
            "| fried chicken |          2 |        20000 |         40000 |\n",
            "+---------------+------------+--------------+---------------+\n",
            "\n",
            "Please review the item details above.\n",
            "\n",
            "Use 'update_item()' if you need to make corrections.\n"
          ]
        }
      ]
    },
    {
      "cell_type": "code",
      "source": [
        "trx.add_item()"
      ],
      "metadata": {
        "colab": {
          "base_uri": "https://localhost:8080/"
        },
        "id": "UJJo-wNh1IzI",
        "outputId": "391f87e3-7c24-4166-9d55-c151479547d9"
      },
      "execution_count": null,
      "outputs": [
        {
          "output_type": "stream",
          "name": "stdout",
          "text": [
            "Ensure no typo when entering item name.\n",
            "  Item name: Toothpaste\n",
            "\n",
            "Enter quantity using numbers only. Example: 6\n",
            "  Item quantity: 3\n",
            "\n",
            "Enter item price using numbers only, no thousand separators. Example: 20000\n",
            "  Unit price: 15000\n",
            " \n",
            "\n",
            "Item 'toothpaste' has been successfully added to your cart.\n",
            " \n",
            "+------------+------------+--------------+---------------+\n",
            "| Item       |   Quantity |   Unit Price |   Total Price |\n",
            "+============+============+==============+===============+\n",
            "| toothpaste |          3 |        15000 |         45000 |\n",
            "+------------+------------+--------------+---------------+\n",
            "\n",
            "Please review the item details above.\n",
            "\n",
            "Use 'update_item()' if you need to make corrections.\n"
          ]
        }
      ]
    },
    {
      "cell_type": "code",
      "source": [
        "trx.add_item()"
      ],
      "metadata": {
        "colab": {
          "base_uri": "https://localhost:8080/"
        },
        "id": "InRxIrfM1ImY",
        "outputId": "9d9b7612-666b-454c-9bfe-876a9c866e47"
      },
      "execution_count": null,
      "outputs": [
        {
          "output_type": "stream",
          "name": "stdout",
          "text": [
            "Ensure no typo when entering item name.\n",
            "  Item name: Instant Noodle\n",
            "\n",
            "Enter quantity using numbers only. Example: 6\n",
            "  Item quantity: 5\n",
            "\n",
            "Enter item price using numbers only, no thousand separators. Example: 20000\n",
            "  Unit price: 3000\n",
            " \n",
            "\n",
            "Item 'instant noodle' has been successfully added to your cart.\n",
            " \n",
            "+----------------+------------+--------------+---------------+\n",
            "| Item           |   Quantity |   Unit Price |   Total Price |\n",
            "+================+============+==============+===============+\n",
            "| instant noodle |          5 |         3000 |         15000 |\n",
            "+----------------+------------+--------------+---------------+\n",
            "\n",
            "Please review the item details above.\n",
            "\n",
            "Use 'update_item()' if you need to make corrections.\n"
          ]
        }
      ]
    },
    {
      "cell_type": "code",
      "source": [
        "trx.add_item()"
      ],
      "metadata": {
        "colab": {
          "base_uri": "https://localhost:8080/"
        },
        "id": "3zLDaALE1Ieu",
        "outputId": "db572efe-8c34-4111-d01a-b7acb98ccffa"
      },
      "execution_count": null,
      "outputs": [
        {
          "output_type": "stream",
          "name": "stdout",
          "text": [
            "Ensure no typo when entering item name.\n",
            "  Item name: Toy Car\n",
            "\n",
            "Enter quantity using numbers only. Example: 6\n",
            "  Item quantity: 1\n",
            "\n",
            "Enter item price using numbers only, no thousand separators. Example: 20000\n",
            "  Unit price: 200000\n",
            " \n",
            "\n",
            "Item 'toy car' has been successfully added to your cart.\n",
            " \n",
            "+---------+------------+--------------+---------------+\n",
            "| Item    |   Quantity |   Unit Price |   Total Price |\n",
            "+=========+============+==============+===============+\n",
            "| toy car |          1 |       200000 |        200000 |\n",
            "+---------+------------+--------------+---------------+\n",
            "\n",
            "Please review the item details above.\n",
            "\n",
            "Use 'update_item()' if you need to make corrections.\n"
          ]
        }
      ]
    },
    {
      "cell_type": "markdown",
      "source": [
        "\n",
        "**4.2.** The customer checks the cart contents with `check_order()` and realizes **the name \"Fried Chicken\" was misspelled**."
      ],
      "metadata": {
        "id": "GaYCXszC1KmZ"
      }
    },
    {
      "cell_type": "code",
      "source": [
        "trx.check_order()"
      ],
      "metadata": {
        "colab": {
          "base_uri": "https://localhost:8080/"
        },
        "id": "GNTfAk7J1S-M",
        "outputId": "26e4ea6a-b206-4a77-a61d-cc91b3ea7588"
      },
      "execution_count": null,
      "outputs": [
        {
          "output_type": "stream",
          "name": "stdout",
          "text": [
            "\n",
            "Current contents of your cart:\n",
            "\n",
            "+-------+----------------+------------+--------------+---------------+\n",
            "|   No. | Item           |   Quantity |   Unit Price |   Total Price |\n",
            "+=======+================+============+==============+===============+\n",
            "|     1 | fried chicken  |          2 |        20000 |         40000 |\n",
            "+-------+----------------+------------+--------------+---------------+\n",
            "|     2 | toothpaste     |          3 |        15000 |         45000 |\n",
            "+-------+----------------+------------+--------------+---------------+\n",
            "|     3 | instant noodle |          5 |         3000 |         15000 |\n",
            "+-------+----------------+------------+--------------+---------------+\n",
            "|     4 | toy car        |          1 |       200000 |        200000 |\n",
            "+-------+----------------+------------+--------------+---------------+\n",
            "\n",
            "Please check your cart before proceeding to checkout. Use 'update_item()' if needed.\n",
            "\n",
            "If everything looks good, use 'total_price()' to complete your purchase.\n"
          ]
        }
      ]
    },
    {
      "cell_type": "markdown",
      "source": [
        "**4.3.** The customer updates the name from \"Fried Chicken\" to \"Grilled Chicken\" via `update_item()`, then runs `check_order()` again."
      ],
      "metadata": {
        "id": "LAVaNuRw1Yx2"
      }
    },
    {
      "cell_type": "code",
      "source": [
        "trx.update_item()"
      ],
      "metadata": {
        "colab": {
          "base_uri": "https://localhost:8080/"
        },
        "id": "m9kPLf8F1fyw",
        "outputId": "03b46642-9eb5-4c15-95cd-e08dbaa93f62"
      },
      "execution_count": null,
      "outputs": [
        {
          "output_type": "stream",
          "name": "stdout",
          "text": [
            "Which item detail would you like to update?\n",
            "(name / quantity / price)\n",
            "name\n",
            "\n",
            "Item name: fried Chicken\n",
            "Enter new item name: Grilled Chicken\n",
            "\n",
            "Item name 'fried chicken' has been changed to 'grilled chicken'.\n",
            " \n",
            "+-----------------+------------+--------------+---------------+\n",
            "| Item            |   Quantity |   Unit Price |   Total Price |\n",
            "+=================+============+==============+===============+\n",
            "| grilled chicken |          2 |        20000 |         40000 |\n",
            "+-----------------+------------+--------------+---------------+\n",
            "\n",
            "Please review the item details above.\n",
            "\n",
            "Use 'update_item()' if you need to make corrections.\n"
          ]
        }
      ]
    },
    {
      "cell_type": "code",
      "source": [
        "trx.check_order()"
      ],
      "metadata": {
        "colab": {
          "base_uri": "https://localhost:8080/"
        },
        "id": "i2jOxjom1i-V",
        "outputId": "00aa2a69-4000-4352-de3f-b9e5c282f8ac"
      },
      "execution_count": null,
      "outputs": [
        {
          "output_type": "stream",
          "name": "stdout",
          "text": [
            "\n",
            "Current contents of your cart:\n",
            "\n",
            "+-------+-----------------+------------+--------------+---------------+\n",
            "|   No. | Item            |   Quantity |   Unit Price |   Total Price |\n",
            "+=======+=================+============+==============+===============+\n",
            "|     1 | toothpaste      |          3 |        15000 |         45000 |\n",
            "+-------+-----------------+------------+--------------+---------------+\n",
            "|     2 | instant noodle  |          5 |         3000 |         15000 |\n",
            "+-------+-----------------+------------+--------------+---------------+\n",
            "|     3 | toy car         |          1 |       200000 |        200000 |\n",
            "+-------+-----------------+------------+--------------+---------------+\n",
            "|     4 | grilled chicken |          2 |        20000 |         40000 |\n",
            "+-------+-----------------+------------+--------------+---------------+\n",
            "\n",
            "Please check your cart before proceeding to checkout. Use 'update_item()' if needed.\n",
            "\n",
            "If everything looks good, use 'total_price()' to complete your purchase.\n"
          ]
        }
      ]
    },
    {
      "cell_type": "markdown",
      "source": [
        "**4.4.** The customer checks the total payment due using `total_price()` and finalizes the payment."
      ],
      "metadata": {
        "id": "nlLoy9eE1lMw"
      }
    },
    {
      "cell_type": "code",
      "source": [
        "trx.total_price()"
      ],
      "metadata": {
        "colab": {
          "base_uri": "https://localhost:8080/"
        },
        "id": "Bavo_y-p1qd-",
        "outputId": "141677f3-8086-44fd-9bd1-05be0d638364"
      },
      "execution_count": null,
      "outputs": [
        {
          "output_type": "stream",
          "name": "stdout",
          "text": [
            "+-----------------------+---------------+\n",
            "| Total before discount | Rp 300.000,00 |\n",
            "+-----------------------+---------------+\n",
            "| Discount              |  Rp 15.000,00 |\n",
            "+-----------------------+---------------+\n",
            "| Total after discount  | Rp 285.000,00 |\n",
            "+-----------------------+---------------+\n",
            "\n",
            "Proceed with payment of Rp 285.000,00?\n",
            "(yes / no)\n",
            "yes\n",
            "\n",
            "Thank you! Your payment was successful. Your order will be processed shortly.\n"
          ]
        }
      ]
    },
    {
      "cell_type": "markdown",
      "source": [
        "**4.5.** After the transaction, the admin can review the transaction record stored in `Transaction.bookkeeping` for bookkeeping and popular item analytics."
      ],
      "metadata": {
        "id": "q6ilYsQc1vFr"
      }
    },
    {
      "cell_type": "code",
      "source": [
        "print(Transaction.bookkeeping)"
      ],
      "metadata": {
        "colab": {
          "base_uri": "https://localhost:8080/"
        },
        "id": "2Mb2Bit72ADS",
        "outputId": "ba0aabd6-a612-466c-8254-f0dd78874091"
      },
      "execution_count": null,
      "outputs": [
        {
          "output_type": "stream",
          "name": "stdout",
          "text": [
            "{'Customer 1': {'No.': [1, 2, 3, 4], 'Item': ['toothpaste', 'instant noodle', 'toy car', 'grilled chicken'], 'Quantity': [3, 5, 1, 2], 'Unit Price': [15000, 3000, 200000, 20000], 'Total Price': [45000, 15000, 200000, 40000]}}\n"
          ]
        }
      ]
    }
  ]
}